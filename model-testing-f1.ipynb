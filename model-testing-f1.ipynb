{
 "cells": [
  {
   "cell_type": "code",
   "execution_count": 3,
   "metadata": {},
   "outputs": [],
   "source": [
    "import pandas as pd\n",
    "import os\n",
    "\n",
    "from sklearn import metrics"
   ]
  },
  {
   "cell_type": "code",
   "execution_count": 8,
   "metadata": {},
   "outputs": [],
   "source": [
    "MODEL_NAMES = [\"bert-base-multilingual-uncased-sentiment\", \n",
    "               \"distilbert-base-multilingual-cased-sentiments-student\",\n",
    "               \"FinancialBERT-Sentiment-Analysis\",\n",
    "               \"twitter-roberta-base-sentiment-latest\",\n",
    "               \"twitter-roberta-base-sentiment\"\n",
    "               ]\n",
    "\n",
    "def load_predictions(model_name):\n",
    "    true_values = pd.read_csv(os.path.join(\"model_testing_results\", \"submit_\" + model_name + \".csv\"), index_col = 0)\n",
    "    predicted_values = pd.read_csv(os.path.join(\"model_testing_results\", \"validation_set_\" + model_name + \".csv\"), index_col=0, names=['Id','Prediction'])\n",
    "    predicted_values[predicted_values['Prediction']==0] = -1\n",
    "    return true_values, predicted_values\n",
    "\n",
    "def calculate_metrics(true, pred):\n",
    "    accuracy = metrics.accuracy_score(true.values, pred.values)\n",
    "    f1 = metrics.f1_score(true.values, pred.values)\n",
    "    return f1, accuracy"
   ]
  },
  {
   "cell_type": "code",
   "execution_count": 9,
   "metadata": {},
   "outputs": [
    {
     "name": "stdout",
     "output_type": "stream",
     "text": [
      "Model: bert-base-multilingual-uncased-sentiment,\n",
      " \t F1 score : 0.8264,\n",
      " \t accuracy : 0.8277\n",
      "Model: distilbert-base-multilingual-cased-sentiments-student,\n",
      " \t F1 score : 0.8254,\n",
      " \t accuracy : 0.8267\n",
      "Model: FinancialBERT-Sentiment-Analysis,\n",
      " \t F1 score : 0.817,\n",
      " \t accuracy : 0.821\n",
      "Model: twitter-roberta-base-sentiment-latest,\n",
      " \t F1 score : 0.8687,\n",
      " \t accuracy : 0.8694\n",
      "Model: twitter-roberta-base-sentiment,\n",
      " \t F1 score : 0.8582,\n",
      " \t accuracy : 0.8612\n"
     ]
    }
   ],
   "source": [
    "for model in MODEL_NAMES:\n",
    "    true, pred = load_predictions(model)\n",
    "    f1, accuracy = calculate_metrics(true, pred)\n",
    "\n",
    "    print(f\"Model: {model},\\n \\t F1 score : {round(f1,4)},\\n \\t accuracy : {round(accuracy,4)}\")"
   ]
  },
  {
   "cell_type": "code",
   "execution_count": null,
   "metadata": {},
   "outputs": [],
   "source": []
  }
 ],
 "metadata": {
  "kernelspec": {
   "display_name": "ML_PROJ2",
   "language": "python",
   "name": "python3"
  },
  "language_info": {
   "codemirror_mode": {
    "name": "ipython",
    "version": 3
   },
   "file_extension": ".py",
   "mimetype": "text/x-python",
   "name": "python",
   "nbconvert_exporter": "python",
   "pygments_lexer": "ipython3",
   "version": "3.8.18"
  }
 },
 "nbformat": 4,
 "nbformat_minor": 2
}
