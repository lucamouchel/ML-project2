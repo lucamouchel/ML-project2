{
 "cells": [
  {
   "cell_type": "code",
   "execution_count": 2,
   "metadata": {},
   "outputs": [
    {
     "name": "stdout",
     "output_type": "stream",
     "text": [
      "/opt/homebrew/anaconda3/lib/python3.11/site-packages/transformers/optimization.py:411: FutureWarning: This implementation of AdamW is deprecated and will be removed in a future version. Use the PyTorch implementation torch.optim.AdamW instead, or set `no_deprecation_warning=True` to disable this warning\n",
      "  warnings.warn(\n",
      "12/05/2023 17:53:33 - INFO - Trainer -   ***** Running training *****\n",
      "12/05/2023 17:53:33 - INFO - Trainer -     Num examples = 15002\n",
      "12/05/2023 17:53:33 - INFO - Trainer -     Num Epochs = 4\n",
      "12/05/2023 17:53:33 - INFO - Trainer -     Instantaneous batch size per GPU = 32\n",
      "12/05/2023 17:53:33 - INFO - Trainer -     Total train batch size (w. parallel, distributed & accumulation) = 128\n",
      "12/05/2023 17:53:33 - INFO - Trainer -     Gradient Accumulation steps = 4\n",
      "12/05/2023 17:53:33 - INFO - Trainer -     Total optimization steps = 468\n",
      "huggingface/tokenizers: The current process just got forked, after parallelism has already been used. Disabling parallelism to avoid deadlocks...\n",
      "To disable this warning, you can either:\n",
      "\t- Avoid using `tokenizers` before the fork if possible\n",
      "\t- Explicitly set the environment variable TOKENIZERS_PARALLELISM=(true | false)\n",
      "Epoch:   0%|                                              | 0/4 [00:00<?, ?it/s]\n",
      "Iteration:   0%|                                        | 0/469 [00:00<?, ?it/s]\u001b[A^C\n"
     ]
    }
   ],
   "source": [
    "!python3 scripts/train.py --language-model cardiffnlp/twitter-roberta-base-sentiment --epochs 4 --batch-size 32"
   ]
  },
  {
   "cell_type": "code",
   "execution_count": null,
   "metadata": {},
   "outputs": [],
   "source": [
    "!python3 scripts/predict.py --model-dir models/howey_electra-base-mnli --per_gpu_eval_batch_size 16"
   ]
  }
 ],
 "metadata": {
  "kernelspec": {
   "display_name": "Python 3",
   "language": "python",
   "name": "python3"
  },
  "language_info": {
   "codemirror_mode": {
    "name": "ipython",
    "version": 3
   },
   "file_extension": ".py",
   "mimetype": "text/x-python",
   "name": "python",
   "nbconvert_exporter": "python",
   "pygments_lexer": "ipython3",
   "version": "3.11.5"
  }
 },
 "nbformat": 4,
 "nbformat_minor": 2
}
