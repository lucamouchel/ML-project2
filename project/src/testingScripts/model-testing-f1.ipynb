{
 "cells": [
  {
   "cell_type": "code",
   "execution_count": 53,
   "metadata": {},
   "outputs": [],
   "source": [
    "import pandas as pd\n",
    "import os\n",
    "\n",
    "from sklearn import metrics\n",
    "\n",
    "MODEL_NAMES = [\"bert-base-multilingual-uncased-sentiment\"\n",
    "            #    \"distilbert-base-multilingual-cased-sentiments-student\",\n",
    "            #    \"FinancialBERT-Sentiment-Analysis\",\n",
    "            #    \"twitter-roberta-base-sentiment-latest\",\n",
    "            #    \"twitter-roberta-base-sentiment\"\n",
    "               ]\n",
    "\n",
    "def load_predictions(model_name):\n",
    "    predicted_values = pd.read_csv(\"../../../submit_test_\" + model_name + \".csv\")\n",
    "    true_values = pd.read_csv(os.path.join(\"../../../validation_sets\", model_name, \"validation_set.csv\"), index_col=0, names=['Id','Prediction'])\n",
    "    true_values[true_values['Prediction']==0] = -1\n",
    "    return true_values, predicted_values\n",
    "\n",
    "def calculate_metrics(true, pred):\n",
    "    print(len(pred.values))\n",
    "    accuracy = metrics.accuracy_score(true.values, pred.values)\n",
    "    f1 = metrics.f1_score(true.values, pred.values)\n",
    "    return f1, accuracy"
   ]
  },
  {
   "cell_type": "code",
   "execution_count": 54,
   "metadata": {},
   "outputs": [
    {
     "name": "stdout",
     "output_type": "stream",
     "text": [
      "80\n",
      "Model: bert-base-multilingual-uncased-sentiment,\n",
      " \t F1 score : 0.6486,\n",
      " \t accuracy : 0.5125\n"
     ]
    }
   ],
   "source": [
    "for model in MODEL_NAMES:\n",
    "    true, pred = load_predictions(model)\n",
    "    f1, accuracy = calculate_metrics(true.Prediction, pred.Prediction)\n",
    "    print(f\"Model: {model},\\n \\t F1 score : {round(f1,4)},\\n \\t accuracy : {round(accuracy,4)}\")"
   ]
  },
  {
   "cell_type": "code",
   "execution_count": null,
   "metadata": {},
   "outputs": [],
   "source": [
    "\n",
    "import sys\n",
    "sys.path.append(\".\")\n",
    "import os\n",
    "import argparse\n",
    "\n",
    "import pandas as pd\n",
    "from sklearn import metrics\n",
    "\n",
    "def load_predictions(model_name):\n",
    "    predicted_values = pd.read_csv(\"../../../submit_test_\" + model_name + \".csv\")\n",
    "    true_values = pd.read_csv(os.path.join(\"../../../validation_sets\", model_name, \"validation_set.csv\"), index_col=0, names=['Id','Prediction'])\n",
    "    true_values[true_values['Prediction']==0] = -1\n",
    "    return true_values, predicted_values\n",
    "\n",
    "def calculate_metrics(true, pred):\n",
    "    print(len(pred.values))\n",
    "    accuracy = metrics.accuracy_score(true.values, pred.values)\n",
    "    f1 = metrics.f1_score(true.values, pred.values)\n",
    "    return f1, accuracy\n",
    "\n",
    "def evaluate(model_name):\n",
    "    true, pred = load_predictions(model_name)\n",
    "    f1, accuracy = calculate_metrics(true.Prediction, pred.Prediction)\n",
    "    print(f\"Model: {model},\\n \\t F1 score : {round(f1,4)},\\n \\t accuracy : {round(accuracy,4)}\")\n",
    "    \n",
    "def main():\n",
    "    parser = argparse.ArgumentParser(description='Validate tested model')\n",
    "    parser.add_argument('--model-name', dest='model_name', required=True,\n",
    "                        help='the base name of the model that you trained')\n",
    "\n",
    "    args = parser.parse_args()\n",
    "    \n",
    "    evaluate(model_name=args.model_name)\n",
    "\n",
    "if __name__ == '__main__':\n",
    "    main()"
   ]
  }
 ],
 "metadata": {
  "kernelspec": {
   "display_name": "ML_PROJ2",
   "language": "python",
   "name": "python3"
  },
  "language_info": {
   "codemirror_mode": {
    "name": "ipython",
    "version": 3
   },
   "file_extension": ".py",
   "mimetype": "text/x-python",
   "name": "python",
   "nbconvert_exporter": "python",
   "pygments_lexer": "ipython3",
   "version": "3.8.18"
  }
 },
 "nbformat": 4,
 "nbformat_minor": 2
}
